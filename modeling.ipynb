{
 "cells": [
  {
   "cell_type": "code",
   "execution_count": 1,
   "metadata": {},
   "outputs": [],
   "source": [
    "import numpy as np\n",
    "import pandas as pd\n",
    "from collections import Counter\n",
    "\n",
    "\n",
    "# Audio feature extraction\n",
    "import librosa as lb\n",
    "\n",
    "# Visualization\n",
    "import matplotlib.pyplot as plt\n",
    "import librosa.display \n",
    "import seaborn as sns\n",
    "from mlxtend.plotting import plot_decision_regions\n",
    "from matplotlib import pyplot\n",
    "\n",
    "\n",
    "# Model\n",
    "from sklearn.preprocessing import StandardScaler, MinMaxScaler\n",
    "from sklearn.linear_model import LogisticRegression, LogisticRegressionCV\n",
    "from sklearn.model_selection import train_test_split, cross_val_predict, StratifiedKFold, KFold, GridSearchCV\n",
    "from sklearn.neighbors import KNeighborsClassifier\n",
    "from sklearn.metrics import confusion_matrix, roc_auc_score, roc_curve, f1_score, accuracy_score, precision_score, recall_score\n",
    "from xgboost import XGBClassifier\n",
    "from mlxtend.plotting import plot_decision_regions\n",
    "from imblearn.under_sampling import RandomUnderSampler\n",
    "from sklearn.ensemble import GradientBoostingClassifier, RandomForestClassifier  #GBM algorithm\n",
    "from xgboost import XGBClassifier\n",
    "import xgboost as xgb\n",
    "from xgboost import plot_importance\n",
    "\n",
    "\n",
    "# Render figures interactively in the notebook\n",
    "%matplotlib inline\n",
    "\n",
    "# Audio widget for playback\n",
    "from IPython.display import Audio\n",
    "\n",
    "# Importing files\n",
    "from os import listdir\n",
    "from os.path import isfile, join"
   ]
  },
  {
   "cell_type": "markdown",
   "metadata": {},
   "source": [
    "### Preprocessing in python and postgreSQL"
   ]
  },
  {
   "cell_type": "code",
   "execution_count": null,
   "metadata": {},
   "outputs": [],
   "source": [
    "# # Before my postgreSQL manipulation, one of my tables has some preprocessing needed.\n",
    "# df_features = pd.read_csv('features_data.csv')\n",
    "\n",
    "# # Preprocessing for clean merging in SQL\n",
    "# df_features['filename'] = df_features['filename'].str[:15]\n",
    "# df_features = df_features.drop(columns='Unnamed: 0')\n",
    "# df_features['actor'] = df_features['filename'].str[:4]\n",
    "# df_features.to_csv('features_data.csv', sep=',', encoding='utf-8')\n",
    "\n",
    "# In postgreSQL, I created a database with several tablesd from the CREMA-D dataset and joined them together. \n",
    "# A .txt file of command line actions can be found in the repo. I am reading that final table back into pandas here.\n",
    "# df_final = pd.read_csv('final.csv')"
   ]
  },
  {
   "cell_type": "code",
   "execution_count": 5,
   "metadata": {},
   "outputs": [],
   "source": [
    "# data processed in external postgress database\n",
    "\n",
    "# read processed total dataset\n",
    "df_2 = pd.read_csv('features_data_v2.csv')\n",
    "# read processed data ONLY anger vs neutral\n",
    "# df_AN = pd.read_csv('anger_neutral_df.csv')\n",
    "# # read processed data ONLY anger/disgust vs neutral/happy\n",
    "# df_ADHN = pd.read_csv('anger_neutral_happy_disgust.csv')"
   ]
  },
  {
   "cell_type": "code",
   "execution_count": 7,
   "metadata": {
    "scrolled": true
   },
   "outputs": [
    {
     "data": {
      "text/plain": [
       "F    1268\n",
       "H    1267\n",
       "A    1266\n",
       "D    1264\n",
       "S    1263\n",
       "N    1082\n",
       "Name: emotion_label, dtype: int64"
      ]
     },
     "execution_count": 7,
     "metadata": {},
     "output_type": "execute_result"
    }
   ],
   "source": [
    "df_2.emotion_label.value_counts()"
   ]
  },
  {
   "cell_type": "code",
   "execution_count": 8,
   "metadata": {},
   "outputs": [
    {
     "data": {
      "image/png": "[encoded data removed]",
      "text/plain": [
       "<Figure size 432x288 with 1 Axes>"
      ]
     },
     "metadata": {},
     "output_type": "display_data"
    }
   ],
   "source": [
    "# observing distribution of certain variables, after outliers were removed\n",
    "plt.hist(df_2['contrast']);"
   ]
  },
  {
   "cell_type": "code",
   "execution_count": null,
   "metadata": {},
   "outputs": [],
   "source": [
    "# creating pairplots to observe feature interactions with the target\n",
    "\n",
    "def plot_features(df, sample_size=500):\n",
    "    '''Pairplot creator to assess feature strength. '''\n",
    "    \n",
    "    \n",
    "    sample = (df.drop(['Unnamed: 0', 'filename', 'actor', 'emotion_label', 'affect',\n",
    "        'Age', 'Sex', 'Race', 'Ethnicity',\n",
    "       'Female', 'Male', 'African American', 'Asian', 'Caucasian', 'Unknown'], axis=1)\n",
    "                .sample(1000, random_state=44)) \n",
    "    sns.pairplot(sample,hue='affect_binary', plot_kws=dict(alpha=.3, edgecolor='none'))\n",
    "\n",
    "plot_features(df_2)  "
   ]
  },
  {
   "cell_type": "markdown",
   "metadata": {},
   "source": [
    "### Splitting train and test data"
   ]
  },
  {
   "cell_type": "code",
   "execution_count": 12,
   "metadata": {},
   "outputs": [],
   "source": [
    "# creating X and y for model. This model only predicts on Anger or Neutral.\n",
    "\n",
    "X, y = df_2.drop(['Unnamed: 0','filename', 'actor', 'emotion_label', 'affect','affect_binary'], axis=1), df_2['emotion_label']\n",
    "\n",
    "# hold out 20% of the data for final testing\n",
    "X_train, X_test, y_train, y_test = train_test_split(X, y, test_size=.2, random_state=10)\n",
    "\n",
    "# applying scalar\n",
    "std = MinMaxScaler()\n",
    "std.fit(X_train.values)\n",
    "X_tr = std.transform(X_train.values)\n",
    "X_te = std.transform(X_test.values)\n"
   ]
  },
  {
   "cell_type": "code",
   "execution_count": 100,
   "metadata": {},
   "outputs": [],
   "source": [
    "# creating X and y for model. This model predicts on anger/disgust or neutral/happy\n",
    "\n",
    "X_1, y_1 = df_ADHN.drop(['Unnamed: 0','Unnamed: 0.1','filename', 'actor', 'emotion_label', 'affect',\n",
    "        'Sex', 'Race', 'Ethnicity',\n",
    "       'sex_binary', 'affect_binary', 'chroma', 'flatness', 'contrast_std','Age', 'Female', 'Male', 'African American', 'Asian',\n",
    "       'Caucasian', 'Unknown', 'mfcc'], axis=1), df_ADHN['affect_binary']\n",
    "\n",
    "#X, y = np.array(X), np.array(y)\n",
    "\n",
    "# hold out 20% of the data for final testing\n",
    "X_train_1, X_test_1, y_train_1, y_test_1 = train_test_split(X_1, y_1, test_size=.2, random_state=10)\n",
    "\n",
    "# applying standard scalar\n",
    "std = MinMaxScaler()\n",
    "std.fit(X_train_1.values)\n",
    "X_tr_1 = std.transform(X_train_1.values)\n",
    "X_te_1 = std.transform(X_test_1.values)"
   ]
  },
  {
   "cell_type": "code",
   "execution_count": 49,
   "metadata": {},
   "outputs": [],
   "source": [
    "# Selecting different classifiers for modeling.\n",
    "\n",
    "# logistic regression\n",
    "lr = LogisticRegression()\n",
    "# K Nearest Neihbors\n",
    "knn = KNeighborsClassifier(n_neighbors=5, weights='distance')\n",
    "# Random Forest\n",
    "forest = RandomForestClassifier(n_estimators=100)\n",
    "# Xgradientboost\n",
    "xgb1 = XGBClassifier()\n"
   ]
  },
  {
   "cell_type": "code",
   "execution_count": 50,
   "metadata": {},
   "outputs": [],
   "source": [
    "# setting parameter values to loop through for each model in Gridsearch CV.\n",
    "\n",
    "params_lr = [{\n",
    "    'penalty': ['l1', 'l2'], \n",
    "    'C': np.logspace(0,4,10)\n",
    "}]\n",
    "\n",
    "params_knn = {\n",
    "    'n_neighbors': [3, 5, 10, 20]\n",
    "}\n",
    "\n",
    "params_xgb = [{\n",
    "    'max_depth':range(2,6,2),\n",
    "    #'scale_pos_weight':[1,2],\n",
    "    'min_child_weight':range(1,6,2)\n",
    "}]\n",
    "\n",
    "kf = KFold(n_splits=5, shuffle = True, random_state = 1001)\n"
   ]
  },
  {
   "cell_type": "code",
   "execution_count": 43,
   "metadata": {},
   "outputs": [],
   "source": [
    "# grid search CV to optimize parameter selection with logistic regression and KNN.\n",
    "\n",
    "# clf_log = GridSearchCV(estimator=lr, param_grid=params_lr, cv=kf)\n",
    "#lr.fit(X_tr, y_train)\n",
    "# clf_knn = GridSearchCV(estimator=knn, param_grid=params_knn)\n",
    "# knn.fit(X_tr, y_train)\n",
    "xgb2 = xgb1.fit(X_tr, y_train)"
   ]
  },
  {
   "cell_type": "code",
   "execution_count": 51,
   "metadata": {},
   "outputs": [
    {
     "data": {
      "text/plain": [
       "GridSearchCV(cv=KFold(n_splits=5, random_state=1001, shuffle=True),\n",
       "       error_score='raise-deprecating',\n",
       "       estimator=XGBClassifier(base_score=0.5, booster='gbtree', colsample_bylevel=1,\n",
       "       colsample_bytree=1, gamma=0, learning_rate=0.1, max_delta_step=0,\n",
       "       max_depth=3, min_child_weight=1, missing=None, n_estimators=100,\n",
       "       n_jobs=1, nthread=None, objective='binary:logistic', random_state=0,\n",
       "       reg_alpha=0, reg_lambda=1, scale_pos_weight=1, seed=None,\n",
       "       silent=True, subsample=1),\n",
       "       fit_params=None, iid='warn', n_jobs=None,\n",
       "       param_grid=[{'max_depth': range(2, 6, 2), 'min_child_weight': range(1, 6, 2)}],\n",
       "       pre_dispatch='2*n_jobs', refit=True, return_train_score='warn',\n",
       "       scoring=None, verbose=0)"
      ]
     },
     "execution_count": 51,
     "metadata": {},
     "output_type": "execute_result"
    }
   ],
   "source": [
    "# only anger/disgust and neutral/happy with XGradient Boost\n",
    "clf_xgb = GridSearchCV(estimator=xgb1, param_grid=params_xgb, cv=kf)\n",
    "clf_xgb.fit(X_tr, y_train)"
   ]
  },
  {
   "cell_type": "code",
   "execution_count": 33,
   "metadata": {},
   "outputs": [
    {
     "data": {
      "text/plain": [
       "GridSearchCV(cv=<generator object _BaseKFold.split at 0x108121678>,\n",
       "       error_score='raise-deprecating',\n",
       "       estimator=XGBClassifier(base_score=0.5, booster='gbtree', colsample_bylevel=1,\n",
       "       colsample_bytree=1, gamma=0, learning_rate=0.1, max_delta_step=0,\n",
       "       max_depth=3, min_child_weight=1, missing=None, n_estimators=100,\n",
       "       n_jobs=1, nthread=None, objective='binary:logistic', random_state=0,\n",
       "       reg_alpha=0, reg_lambda=1, scale_pos_weight=1, seed=None,\n",
       "       silent=True, subsample=1),\n",
       "       fit_params=None, iid='warn', n_jobs=None,\n",
       "       param_grid=[{'max_depth': range(3, 10, 2), 'scale_pos_weight': [1, 2, 3, 4, 5], 'min_child_weight': range(1, 6, 2)}],\n",
       "       pre_dispatch='2*n_jobs', refit=True, return_train_score='warn',\n",
       "       scoring=None, verbose=0)"
      ]
     },
     "execution_count": 33,
     "metadata": {},
     "output_type": "execute_result"
    }
   ],
   "source": [
    "# only anger and neutral class with XGradient Boost\n",
    "\n",
    "clf_xgb_AN = GridSearchCV(estimator=xgb1, param_grid=params_xgb, cv=skf.split(X_tr,y_train))\n",
    "clf_xgb_AN.fit(X_tr, y_train)"
   ]
  },
  {
   "cell_type": "code",
   "execution_count": 47,
   "metadata": {},
   "outputs": [
    {
     "data": {
      "text/plain": [
       "{'max_depth': 5, 'min_child_weight': 1, 'scale_pos_weight': 1}"
      ]
     },
     "execution_count": 47,
     "metadata": {},
     "output_type": "execute_result"
    }
   ],
   "source": [
    "clf_xgb_ADHN.best_params_"
   ]
  },
  {
   "cell_type": "code",
   "execution_count": 35,
   "metadata": {},
   "outputs": [
    {
     "data": {
      "text/plain": [
       "{'max_depth': 3, 'min_child_weight': 3, 'scale_pos_weight': 1}"
      ]
     },
     "execution_count": 35,
     "metadata": {},
     "output_type": "execute_result"
    }
   ],
   "source": [
    "clf_xgb_AN.best_params_"
   ]
  },
  {
   "cell_type": "markdown",
   "metadata": {},
   "source": [
    "### Making models"
   ]
  },
  {
   "cell_type": "code",
   "execution_count": 29,
   "metadata": {},
   "outputs": [],
   "source": [
    "def make_confusion_matrix(model, threshold, X, y):\n",
    "    '''This function creates a confusion matrix showing the predictions of a class if the propbabilty of\n",
    "    being in that class is greater than the threshold'''\n",
    "    \n",
    "#     y_hat = (model.predict_proba(X)[:,0] > threshold)\n",
    "#     confusion = confusion_matrix(y, y_hat)\n",
    "    confusion = confusion_matrix(y, model.predict(X))\n",
    "    plt.figure(dpi=80)\n",
    "    sns.heatmap(confusion, cmap=plt.cm.Blues, annot=True, square=True, fmt='d')\n",
    "           #xticklabels=['negative', 'positive'],\n",
    "           #yticklabels=['negative', 'positive']);\n",
    "    #plt.xlabel('prediction')\n",
    "    #plt.ylabel('actual')"
   ]
  },
  {
   "cell_type": "code",
   "execution_count": 48,
   "metadata": {
    "scrolled": true
   },
   "outputs": [
    {
     "data": {
      "image/png": "[encoded data removed]",
      "text/plain": [
       "<Figure size 480x320 with 2 Axes>"
      ]
     },
     "metadata": {},
     "output_type": "display_data"
    }
   ],
   "source": [
    "# anger/disgust vs happy/neutral\n",
    "\n",
    "make_confusion_matrix(clf_xgb_ADHN, .5, X_te, y_test)"
   ]
  },
  {
   "cell_type": "code",
   "execution_count": 39,
   "metadata": {},
   "outputs": [
    {
     "data": {
      "image/png": "[encoded data removed]",
      "text/plain": [
       "<Figure size 480x320 with 2 Axes>"
      ]
     },
     "metadata": {},
     "output_type": "display_data"
    }
   ],
   "source": [
    "# only anger and neutral\n",
    "\n",
    "make_confusion_matrix(clf_xgb_AN, .5, X_te, y_test)"
   ]
  },
  {
   "cell_type": "code",
   "execution_count": 31,
   "metadata": {},
   "outputs": [],
   "source": [
    "def roc_plots(model):\n",
    "    probs = model.predict_proba(X_te)\n",
    "    probs = probs[:, 1]\n",
    "    auc = roc_auc_score(y_test, probs)\n",
    "    print(f'AUC {auc}')\n",
    "    print(f'f1 {f1_score(y_test, model.predict(X_te))}')\n",
    "    print(f'recall {recall_score(y_test, model.predict(X_te))}')\n",
    "    print(f'precision {precision_score(y_test, model.predict(X_te))}')\n",
    "    print(f'accuracy {accuracy_score(y_test, model.predict(X_te))}')\n",
    "    \n",
    "    fpr, tpr, thresholds = roc_curve(y_test\n",
    "                                     , probs)\n",
    "    plt.plot(fpr, tpr,lw=2)\n",
    "    plt.plot([0,1],[0,1],c='violet',ls='--')\n",
    "    plt.xlim([-0.05,1.05])\n",
    "    plt.ylim([-0.05,1.05])\n"
   ]
  },
  {
   "cell_type": "code",
   "execution_count": 37,
   "metadata": {},
   "outputs": [
    {
     "data": {
      "text/plain": [
       "array([0.57419355, 0.26122449, 0.28947368, 0.37777778, 0.31654676,\n",
       "       0.40979955])"
      ]
     },
     "execution_count": 37,
     "metadata": {},
     "output_type": "execute_result"
    }
   ],
   "source": [
    "precision_score(y_test, lr.predict(X_te), average=None)"
   ]
  },
  {
   "cell_type": "code",
   "execution_count": 44,
   "metadata": {
    "scrolled": true
   },
   "outputs": [
    {
     "name": "stdout",
     "output_type": "stream",
     "text": [
      "AUC 0.9729912715694706\n",
      "f1 0.9376443418013857\n",
      "recall 0.9620853080568721\n",
      "precision 0.9144144144144144\n",
      "accuracy 0.9425531914893617\n"
     ]
    },
    {
     "data": {
      "image/png": "[encoded data removed]",
      "text/plain": [
       "<Figure size 432x288 with 1 Axes>"
      ]
     },
     "metadata": {},
     "output_type": "display_data"
    }
   ],
   "source": [
    "# only anger and neutral\n",
    "\n",
    "roc_plots(clf_xgb_AN)"
   ]
  },
  {
   "cell_type": "code",
   "execution_count": 50,
   "metadata": {},
   "outputs": [
    {
     "name": "stdout",
     "output_type": "stream",
     "text": [
      "AUC 0.91875423155044\n",
      "f1 0.8106796116504854\n",
      "recall 0.7914691943127962\n",
      "precision 0.8308457711442786\n",
      "accuracy 0.8340425531914893\n"
     ]
    },
    {
     "data": {
      "image/png": "[encoded data removed]",
      "text/plain": [
       "<Figure size 432x288 with 1 Axes>"
      ]
     },
     "metadata": {},
     "output_type": "display_data"
    }
   ],
   "source": [
    "# only anger/disgust and neutral/happy\n",
    "\n",
    "roc_plots(clf_xgb_ADHN)"
   ]
  },
  {
   "cell_type": "markdown",
   "metadata": {},
   "source": [
    "### Feature selection\n"
   ]
  },
  {
   "cell_type": "code",
   "execution_count": 53,
   "metadata": {},
   "outputs": [
    {
     "data": {
      "image/png": "[encoded data removed]",
      "text/plain": [
       "<Figure size 432x288 with 1 Axes>"
      ]
     },
     "metadata": {},
     "output_type": "display_data"
    }
   ],
   "source": [
    "# Below is a function of xgboost classifier with illustrates relative importance of a feature within a model. \n",
    "# This was used to trim unneeded features.\n",
    "\n",
    "model = XGBClassifier()\n",
    "model.fit(X_tr, y_train)\n",
    "\n",
    "plot_importance(model)\n",
    "pyplot.show()"
   ]
  },
  {
   "cell_type": "code",
   "execution_count": 55,
   "metadata": {
    "scrolled": true
   },
   "outputs": [
    {
     "name": "stdout",
     "output_type": "stream",
     "text": [
      "Accuracy: 43.39%\n",
      "Thresh=0.050, n=12, Accuracy: 43.45%\n",
      "Thresh=0.054, n=11, Accuracy: 43.12%\n",
      "Thresh=0.070, n=10, Accuracy: 42.65%\n",
      "Thresh=0.073, n=9, Accuracy: 42.91%\n",
      "Thresh=0.075, n=8, Accuracy: 42.58%\n",
      "Thresh=0.080, n=7, Accuracy: 42.38%\n",
      "Thresh=0.082, n=6, Accuracy: 41.70%\n",
      "Thresh=0.090, n=5, Accuracy: 40.62%\n",
      "Thresh=0.095, n=4, Accuracy: 39.95%\n",
      "Thresh=0.102, n=3, Accuracy: 39.88%\n",
      "Thresh=0.111, n=2, Accuracy: 39.14%\n",
      "Thresh=0.119, n=1, Accuracy: 39.20%\n"
     ]
    }
   ],
   "source": [
    "from numpy import loadtxt\n",
    "from numpy import sort\n",
    "from xgboost import XGBClassifier\n",
    "from sklearn.model_selection import train_test_split\n",
    "from sklearn.metrics import accuracy_score\n",
    "from sklearn.feature_selection import SelectFromModel\n",
    "\n",
    "model = XGBClassifier()\n",
    "model.fit(X_tr, y_train)\n",
    "# make predictions for test data and evaluate\n",
    "y_pred = model.predict(X_te)\n",
    "predictions = [value for value in y_pred]\n",
    "accuracy = accuracy_score(y_test, predictions)\n",
    "print(\"Accuracy: %.2f%%\" % (accuracy * 100.0))\n",
    "# Fit model using each importance as a threshold\n",
    "thresholds = sort(model.feature_importances_)\n",
    "for thresh in thresholds:\n",
    "    # select features using threshold\n",
    "    selection = SelectFromModel(model, threshold=thresh, prefit=True)\n",
    "    select_X_train = selection.transform(X_train)\n",
    "    # train model\n",
    "    selection_model = XGBClassifier()\n",
    "    selection_model.fit(select_X_train, y_train)\n",
    "    # eval model\n",
    "    select_X_test = selection.transform(X_test)\n",
    "    y_pred = selection_model.predict(select_X_test)\n",
    "    predictions = [value for value in y_pred]\n",
    "    accuracy = accuracy_score(y_test, predictions)\n",
    "    print(\"Thresh=%.3f, n=%d, Accuracy: %.2f%%\" % (thresh, select_X_train.shape[1], accuracy*100.0))"
   ]
  },
  {
   "cell_type": "markdown",
   "metadata": {},
   "source": [
    "With feature selection from XGBoost, I removed features: 6, 0 , 12, 3, 13, 17, 15 (chroma, flatness, contrast_std, all dem) "
   ]
  },
  {
   "cell_type": "code",
   "execution_count": 195,
   "metadata": {},
   "outputs": [],
   "source": [
    "# save the model to disk\n",
    "import pickle\n",
    "name = 'finalized_model.sav'\n",
    "pickle.dump(model, open(name, 'wb'))"
   ]
  },
  {
   "cell_type": "markdown",
   "metadata": {},
   "source": [
    "### Testing"
   ]
  },
  {
   "cell_type": "code",
   "execution_count": 196,
   "metadata": {},
   "outputs": [],
   "source": [
    "def extract_features(filename):\n",
    "    '''Loading in audiofiles and extracting features. Features include:\n",
    "        - mfcc = Mel-frequency cepstral coefficients. Commonly used for vocals.\n",
    "        - centroid = Spectral Centroid. Represents mean value of frequency form. \n",
    "        - flatness = Spectral flatness. Distinguishes noisy vs harmonic sound.\n",
    "        - tempo = Spectral onset envelope. Describes rythm.\n",
    "        - cens = Chroma Energy Normalized Statistics. Smooths frequency windows for matching.\n",
    "        - energy = Root Mean Square Energy. Computes energy of each frame.\n",
    "        - melspec = Mel-Scaled Spectrogram.\n",
    "        - contrast = Spectral Contrast.\n",
    "        - tonnetz = Tonnetz. Computes tonal centroid features.\n",
    "        - chroma = Chromagram from waveform.\n",
    "    '''\n",
    "    \n",
    "    # load in file. y is the waveform, sr is the sampling rate.\n",
    "    y, sr = lb.load(filename)\n",
    "    \n",
    "    # Short-time Fourier transformation.\n",
    "    stft = np.abs(lb.stft(y))\n",
    "    S, phase = lb.magphase(np.abs(stft))\n",
    "\n",
    "    # all features chroma, contrast, energy, flatness, and MFCC\n",
    "    mfcc = np.mean(lb.feature.mfcc(y=y, sr=sr))   \n",
    "    mfcc_std = np.std(lb.feature.mfcc(y=y, sr=sr))\n",
    "    centroid = np.mean(lb.feature.spectral_centroid(y=y, sr=sr))\n",
    "    centroid_std = np.std(lb.feature.spectral_centroid(y=y, sr=sr))\n",
    "    flatness = np.mean(lb.feature.spectral_flatness(y=y, S=S))\n",
    "    flatness_std = np.std(lb.feature.spectral_flatness(y=y, S=S))\n",
    "    tempo = np.mean(lb.feature.tempogram(y=y, sr=sr))\n",
    "    tempo_std = np.std(lb.feature.tempogram(y=y, sr=sr))\n",
    "    cens = np.mean(lb.feature.chroma_cens(y=y, sr=sr))\n",
    "    cens_std = np.std(lb.feature.chroma_cens(y=y, sr=sr))\n",
    "    energy = np.mean(lb.feature.rmse(y=y))\n",
    "    energy_std = np.std(lb.feature.rmse(y=y))\n",
    "    melspec = np.mean(lb.feature.melspectrogram(y=y, sr=sr))\n",
    "    melspec_std = np.std(lb.feature.melspectrogram(y=y, sr=sr))\n",
    "    contrast = np.mean(lb.feature.spectral_contrast(y=y, sr=sr))\n",
    "    contrast_std = np.std(lb.feature.spectral_contrast(y=y, sr=sr))\n",
    "    tonnetz = np.mean(lb.feature.tonnetz(y=y, sr=sr))\n",
    "    tonnetz_std = np.std(lb.feature.tonnetz(y=y, sr=sr))\n",
    "    chroma = np.mean(librosa.feature.chroma_stft(S=stft, sr=sr))\n",
    "    chroma_std = np.std(librosa.feature.chroma_stft(S=stft, sr=sr))\n",
    "    zero = np.mean(librosa.feature.zero_crossing_rate(y=y))\n",
    "    zero_std = np.std(librosa.feature.zero_crossing_rate(y=y))\n",
    "\n",
    "    # Create a dict of features\n",
    "    audio_features = {'filename': filename,\n",
    "                     'mfcc': mfcc,\n",
    "                     'mfcc_std': mfcc_std,\n",
    "                     'centroid': centroid,\n",
    "                     'centroid_std': centroid_std,\n",
    "                     'flatness': flatness,\n",
    "                     'flatness_std': flatness_std,\n",
    "                     'tempo': tempo,\n",
    "                     'tempo_std':tempo_std,\n",
    "                     'cens': cens,\n",
    "                     'cens_std':cens_std,\n",
    "                     'energy': energy,\n",
    "                     'energy_std': energy_std,\n",
    "                     'melspec': melspec,\n",
    "                     'melspec_std':melspec_std,\n",
    "                     'contrast': contrast,\n",
    "                     'contrast_std': contrast_std,\n",
    "                     'tonnetz': tonnetz,\n",
    "                     'tonnetz_std':tonnetz_std,\n",
    "                     'chroma': chroma,\n",
    "                     'chroma_std': chroma_std,\n",
    "                     'zero': zero,\n",
    "                     'zero_std': zero_std\n",
    "\n",
    "                     }\n",
    "    return audio_features\n"
   ]
  },
  {
   "cell_type": "code",
   "execution_count": 203,
   "metadata": {},
   "outputs": [],
   "source": [
    "def test_function(filename):\n",
    "    varname = extract_features(filename)\n",
    "    varname = pd.DataFrame(varname, index=[0])\n",
    "    varname = varname.drop(columns=['cens', 'cens_std', 'centroid', 'centroid_std',\n",
    "                                    'chroma','contrast_std', 'filename', 'flatness', 'melspec', 'melspec_std',\n",
    "                                    'mfcc', 'tempo', 'tempo_std', 'tonnetz', 'tonnetz_std'])\n",
    "    #varname = std.transform(varname.values)\n",
    "    #varname = varname.values\n",
    "    std_test = MinMaxScaler()\n",
    "    std_test.fit(varname.values)\n",
    "    varname = std_test.transform(varname.values)\n",
    "    return clf_xgb_ADHN.predict(varname)"
   ]
  },
  {
   "cell_type": "code",
   "execution_count": 204,
   "metadata": {},
   "outputs": [
    {
     "data": {
      "text/plain": [
       "array([0])"
      ]
     },
     "execution_count": 204,
     "metadata": {},
     "output_type": "execute_result"
    }
   ],
   "source": [
    "test_function('angry_test.mp3')"
   ]
  },
  {
   "cell_type": "code",
   "execution_count": null,
   "metadata": {},
   "outputs": [],
   "source": []
  }
 ],
 "metadata": {
  "kernelspec": {
   "display_name": "Python 3",
   "language": "python",
   "name": "python3"
  },
  "language_info": {
   "codemirror_mode": {
    "name": "ipython",
    "version": 3
   },
   "file_extension": ".py",
   "mimetype": "text/x-python",
   "name": "python",
   "nbconvert_exporter": "python",
   "pygments_lexer": "ipython3",
   "version": "3.6.4"
  }
 },
 "nbformat": 4,
 "nbformat_minor": 2
}
