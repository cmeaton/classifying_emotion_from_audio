{
 "cells": [
  {
   "cell_type": "code",
   "execution_count": 171,
   "metadata": {},
   "outputs": [],
   "source": [
    "import numpy as np\n",
    "import pandas as pd\n",
    "\n",
    "# Audio feature extraction\n",
    "import librosa as lb\n",
    "\n",
    "# Visualization\n",
    "import matplotlib.pyplot as plt\n",
    "import librosa.display \n",
    "# Render figures interactively in the notebook\n",
    "%matplotlib nbagg\n",
    "\n",
    "# Audio widget for playback\n",
    "from IPython.display import Audio\n",
    "\n",
    "# Importing files\n",
    "from os import listdir\n",
    "from os.path import isfile, join\n",
    "\n",
    "\n"
   ]
  },
  {
   "cell_type": "markdown",
   "metadata": {},
   "source": [
    "## Feature extraction"
   ]
  },
  {
   "cell_type": "code",
   "execution_count": 190,
   "metadata": {},
   "outputs": [],
   "source": [
    "def get_files(path):\n",
    "    '''This function gets all files from a directory as strings in a list.\n",
    "    The path used in this project is: /Users/cmeaton/Documents/code/ds/\n",
    "    METIS/sea19_ds7_workingdir/Project_McNulty/CREMA-D/AudioMP3'''\n",
    "\n",
    "    filenames = [f for f in listdir(path) if isfile(join(path, f))]"
   ]
  },
  {
   "cell_type": "code",
   "execution_count": 192,
   "metadata": {},
   "outputs": [],
   "source": [
    "def extract_features(filename):\n",
    "    '''Loading in audiofiles and extracting features. Features include:\n",
    "        - mfcc = Mel-frequency cepstral coefficients. Commonly used for vocals.\n",
    "        - centroid = Spectral Centroid. Represents mean value of frequency form. \n",
    "        - flatness = Spectral flatness. Distinguishes noisy vs harmonic sound.\n",
    "        - tempo = Spectral onset envelope. Describes rythm.\n",
    "        - cens = Chroma Energy Normalized Statistics. Smooths frequency windows for matching.\n",
    "        - energy = Root Mean Square Energy. Computes energy of each frame.\n",
    "        - melspec = Mel-Scaled Spectrogram.\n",
    "        - contrast = Spectral Contrast.\n",
    "        - tonnetz = Tonnetz. Computes tonal centroid features.\n",
    "        - chroma = Chromagram from waveform.\n",
    "    '''\n",
    "    \n",
    "    # load in file. y is the waveform, sr is the sampling rate.\n",
    "    y, sr = lb.load(filename)\n",
    "    \n",
    "    # Short-time Fourier transformation.\n",
    "    stft = np.abs(lb.stft(y))\n",
    "    S, phase = lb.magphase(np.abs(stft))\n",
    "\n",
    "    # all features\n",
    "    mfcc = np.mean(lb.feature.mfcc(y=y, sr=sr))\n",
    "    centroid = np.mean(lb.feature.spectral_centroid(y=y, sr=sr))\n",
    "    flatness = np.mean(lb.feature.spectral_flatness(y=y, S=S))\n",
    "    tempo = np.mean(lb.feature.tempogram(y=y, sr=sr))\n",
    "    cens = np.mean(lb.feature.chroma_cens(y=y, sr=sr))\n",
    "    energy = np.mean(lb.feature.rmse(y=y))\n",
    "    melspec = np.mean(lb.feature.melspectrogram(y=y, sr=sr))\n",
    "    contrast = np.mean(lb.feature.spectral_contrast(y=y, sr=sr))\n",
    "    tonnetz = np.mean(lb.feature.tonnetz(y=y, sr=sr))\n",
    "    chroma = np.mean(librosa.feature.chroma_stft(S=stft, sr=sr))\n",
    "\n",
    "    # Create a dict of features\n",
    "    audio_features = {'filename': filename,\n",
    "                     'mfcc': mfcc,\n",
    "                     'centroid': centroid,\n",
    "                     'flatness': flatness,\n",
    "                     'tempo': tempo,\n",
    "                     'cens': cens,\n",
    "                     'energy': energy,\n",
    "                     'melspec': melspec,\n",
    "                     'contrast': contrast,\n",
    "                     'tonnetz': tonnetz,\n",
    "                     'chroma': chroma\n",
    "                     }\n",
    "    return audio_features"
   ]
  },
  {
   "cell_type": "code",
   "execution_count": 187,
   "metadata": {},
   "outputs": [],
   "source": [
    "def make_df(extract_features):\n",
    "    '''This function calls the extract_feature function on every file, putting each audiofile dict into\n",
    "    a list and returns a df with each dict as a row.'''\n",
    "\n",
    "    data = []\n",
    "    for i in filenames:\n",
    "        data.append(extract_features(i))\n",
    "    df_features = pd.DataFrame(data)\n",
    "    df_features.to_csv('features_data.csv', sep=',', encoding='utf-8')\n",
    "    return df_features\n",
    "\n",
    "make_df(extract_features)"
   ]
  },
  {
   "cell_type": "code",
   "execution_count": null,
   "metadata": {},
   "outputs": [],
   "source": []
  }
 ],
 "metadata": {
  "kernelspec": {
   "display_name": "Python 3",
   "language": "python",
   "name": "python3"
  },
  "language_info": {
   "codemirror_mode": {
    "name": "ipython",
    "version": 3
   },
   "file_extension": ".py",
   "mimetype": "text/x-python",
   "name": "python",
   "nbconvert_exporter": "python",
   "pygments_lexer": "ipython3",
   "version": "3.6.4"
  }
 },
 "nbformat": 4,
 "nbformat_minor": 2
}
